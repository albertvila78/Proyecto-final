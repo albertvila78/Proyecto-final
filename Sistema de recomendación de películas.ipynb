{
 "cells": [
  {
   "cell_type": "code",
   "execution_count": 3,
   "id": "9692267d",
   "metadata": {},
   "outputs": [],
   "source": [
    "import pandas as pd\n",
    "import numpy as np\n",
    "import matplotlib.pyplot as plt\n",
    "import seaborn as sns\n",
    "from ast import literal_eval\n",
    "import ast"
   ]
  },
  {
   "cell_type": "code",
   "execution_count": 4,
   "id": "02ba6a4c",
   "metadata": {
    "scrolled": false
   },
   "outputs": [
    {
     "name": "stderr",
     "output_type": "stream",
     "text": [
      "C:\\Users\\Albert\\AppData\\Local\\Temp\\ipykernel_5708\\733899630.py:1: DtypeWarning: Columns (10) have mixed types. Specify dtype option on import or set low_memory=False.\n",
      "  movies = pd.read_csv(\"movies_metadata.csv\", sep=\",\")\n"
     ]
    },
    {
     "data": {
      "text/html": [
       "<div>\n",
       "<style scoped>\n",
       "    .dataframe tbody tr th:only-of-type {\n",
       "        vertical-align: middle;\n",
       "    }\n",
       "\n",
       "    .dataframe tbody tr th {\n",
       "        vertical-align: top;\n",
       "    }\n",
       "\n",
       "    .dataframe thead th {\n",
       "        text-align: right;\n",
       "    }\n",
       "</style>\n",
       "<table border=\"1\" class=\"dataframe\">\n",
       "  <thead>\n",
       "    <tr style=\"text-align: right;\">\n",
       "      <th></th>\n",
       "      <th>adult</th>\n",
       "      <th>belongs_to_collection</th>\n",
       "      <th>budget</th>\n",
       "      <th>genres</th>\n",
       "      <th>homepage</th>\n",
       "      <th>id</th>\n",
       "      <th>imdb_id</th>\n",
       "      <th>original_language</th>\n",
       "      <th>original_title</th>\n",
       "      <th>overview</th>\n",
       "      <th>...</th>\n",
       "      <th>release_date</th>\n",
       "      <th>revenue</th>\n",
       "      <th>runtime</th>\n",
       "      <th>spoken_languages</th>\n",
       "      <th>status</th>\n",
       "      <th>tagline</th>\n",
       "      <th>title</th>\n",
       "      <th>video</th>\n",
       "      <th>vote_average</th>\n",
       "      <th>vote_count</th>\n",
       "    </tr>\n",
       "  </thead>\n",
       "  <tbody>\n",
       "    <tr>\n",
       "      <th>0</th>\n",
       "      <td>False</td>\n",
       "      <td>{'id': 10194, 'name': 'Toy Story Collection', ...</td>\n",
       "      <td>30000000</td>\n",
       "      <td>[{'id': 16, 'name': 'Animation'}, {'id': 35, '...</td>\n",
       "      <td>http://toystory.disney.com/toy-story</td>\n",
       "      <td>862</td>\n",
       "      <td>tt0114709</td>\n",
       "      <td>en</td>\n",
       "      <td>Toy Story</td>\n",
       "      <td>Led by Woody, Andy's toys live happily in his ...</td>\n",
       "      <td>...</td>\n",
       "      <td>1995-10-30</td>\n",
       "      <td>373554033.0</td>\n",
       "      <td>81.0</td>\n",
       "      <td>[{'iso_639_1': 'en', 'name': 'English'}]</td>\n",
       "      <td>Released</td>\n",
       "      <td>NaN</td>\n",
       "      <td>Toy Story</td>\n",
       "      <td>False</td>\n",
       "      <td>7.7</td>\n",
       "      <td>5415.0</td>\n",
       "    </tr>\n",
       "    <tr>\n",
       "      <th>1</th>\n",
       "      <td>False</td>\n",
       "      <td>NaN</td>\n",
       "      <td>65000000</td>\n",
       "      <td>[{'id': 12, 'name': 'Adventure'}, {'id': 14, '...</td>\n",
       "      <td>NaN</td>\n",
       "      <td>8844</td>\n",
       "      <td>tt0113497</td>\n",
       "      <td>en</td>\n",
       "      <td>Jumanji</td>\n",
       "      <td>When siblings Judy and Peter discover an encha...</td>\n",
       "      <td>...</td>\n",
       "      <td>1995-12-15</td>\n",
       "      <td>262797249.0</td>\n",
       "      <td>104.0</td>\n",
       "      <td>[{'iso_639_1': 'en', 'name': 'English'}, {'iso...</td>\n",
       "      <td>Released</td>\n",
       "      <td>Roll the dice and unleash the excitement!</td>\n",
       "      <td>Jumanji</td>\n",
       "      <td>False</td>\n",
       "      <td>6.9</td>\n",
       "      <td>2413.0</td>\n",
       "    </tr>\n",
       "    <tr>\n",
       "      <th>2</th>\n",
       "      <td>False</td>\n",
       "      <td>{'id': 119050, 'name': 'Grumpy Old Men Collect...</td>\n",
       "      <td>0</td>\n",
       "      <td>[{'id': 10749, 'name': 'Romance'}, {'id': 35, ...</td>\n",
       "      <td>NaN</td>\n",
       "      <td>15602</td>\n",
       "      <td>tt0113228</td>\n",
       "      <td>en</td>\n",
       "      <td>Grumpier Old Men</td>\n",
       "      <td>A family wedding reignites the ancient feud be...</td>\n",
       "      <td>...</td>\n",
       "      <td>1995-12-22</td>\n",
       "      <td>0.0</td>\n",
       "      <td>101.0</td>\n",
       "      <td>[{'iso_639_1': 'en', 'name': 'English'}]</td>\n",
       "      <td>Released</td>\n",
       "      <td>Still Yelling. Still Fighting. Still Ready for...</td>\n",
       "      <td>Grumpier Old Men</td>\n",
       "      <td>False</td>\n",
       "      <td>6.5</td>\n",
       "      <td>92.0</td>\n",
       "    </tr>\n",
       "    <tr>\n",
       "      <th>3</th>\n",
       "      <td>False</td>\n",
       "      <td>NaN</td>\n",
       "      <td>16000000</td>\n",
       "      <td>[{'id': 35, 'name': 'Comedy'}, {'id': 18, 'nam...</td>\n",
       "      <td>NaN</td>\n",
       "      <td>31357</td>\n",
       "      <td>tt0114885</td>\n",
       "      <td>en</td>\n",
       "      <td>Waiting to Exhale</td>\n",
       "      <td>Cheated on, mistreated and stepped on, the wom...</td>\n",
       "      <td>...</td>\n",
       "      <td>1995-12-22</td>\n",
       "      <td>81452156.0</td>\n",
       "      <td>127.0</td>\n",
       "      <td>[{'iso_639_1': 'en', 'name': 'English'}]</td>\n",
       "      <td>Released</td>\n",
       "      <td>Friends are the people who let you be yourself...</td>\n",
       "      <td>Waiting to Exhale</td>\n",
       "      <td>False</td>\n",
       "      <td>6.1</td>\n",
       "      <td>34.0</td>\n",
       "    </tr>\n",
       "  </tbody>\n",
       "</table>\n",
       "<p>4 rows × 24 columns</p>\n",
       "</div>"
      ],
      "text/plain": [
       "   adult                              belongs_to_collection    budget  \\\n",
       "0  False  {'id': 10194, 'name': 'Toy Story Collection', ...  30000000   \n",
       "1  False                                                NaN  65000000   \n",
       "2  False  {'id': 119050, 'name': 'Grumpy Old Men Collect...         0   \n",
       "3  False                                                NaN  16000000   \n",
       "\n",
       "                                              genres  \\\n",
       "0  [{'id': 16, 'name': 'Animation'}, {'id': 35, '...   \n",
       "1  [{'id': 12, 'name': 'Adventure'}, {'id': 14, '...   \n",
       "2  [{'id': 10749, 'name': 'Romance'}, {'id': 35, ...   \n",
       "3  [{'id': 35, 'name': 'Comedy'}, {'id': 18, 'nam...   \n",
       "\n",
       "                               homepage     id    imdb_id original_language  \\\n",
       "0  http://toystory.disney.com/toy-story    862  tt0114709                en   \n",
       "1                                   NaN   8844  tt0113497                en   \n",
       "2                                   NaN  15602  tt0113228                en   \n",
       "3                                   NaN  31357  tt0114885                en   \n",
       "\n",
       "      original_title                                           overview  ...  \\\n",
       "0          Toy Story  Led by Woody, Andy's toys live happily in his ...  ...   \n",
       "1            Jumanji  When siblings Judy and Peter discover an encha...  ...   \n",
       "2   Grumpier Old Men  A family wedding reignites the ancient feud be...  ...   \n",
       "3  Waiting to Exhale  Cheated on, mistreated and stepped on, the wom...  ...   \n",
       "\n",
       "  release_date      revenue runtime  \\\n",
       "0   1995-10-30  373554033.0    81.0   \n",
       "1   1995-12-15  262797249.0   104.0   \n",
       "2   1995-12-22          0.0   101.0   \n",
       "3   1995-12-22   81452156.0   127.0   \n",
       "\n",
       "                                    spoken_languages    status  \\\n",
       "0           [{'iso_639_1': 'en', 'name': 'English'}]  Released   \n",
       "1  [{'iso_639_1': 'en', 'name': 'English'}, {'iso...  Released   \n",
       "2           [{'iso_639_1': 'en', 'name': 'English'}]  Released   \n",
       "3           [{'iso_639_1': 'en', 'name': 'English'}]  Released   \n",
       "\n",
       "                                             tagline              title  \\\n",
       "0                                                NaN          Toy Story   \n",
       "1          Roll the dice and unleash the excitement!            Jumanji   \n",
       "2  Still Yelling. Still Fighting. Still Ready for...   Grumpier Old Men   \n",
       "3  Friends are the people who let you be yourself...  Waiting to Exhale   \n",
       "\n",
       "   video vote_average vote_count  \n",
       "0  False          7.7     5415.0  \n",
       "1  False          6.9     2413.0  \n",
       "2  False          6.5       92.0  \n",
       "3  False          6.1       34.0  \n",
       "\n",
       "[4 rows x 24 columns]"
      ]
     },
     "execution_count": 4,
     "metadata": {},
     "output_type": "execute_result"
    }
   ],
   "source": [
    "movies = pd.read_csv(\"movies_metadata.csv\", sep=\",\")\n",
    "movies.head(4)"
   ]
  },
  {
   "cell_type": "markdown",
   "id": "dcf18085",
   "metadata": {},
   "source": [
    "<h1>Preprocesamiento de datos</h1>"
   ]
  },
  {
   "cell_type": "code",
   "execution_count": 5,
   "id": "c5da1ee4",
   "metadata": {},
   "outputs": [],
   "source": [
    "#Este código transforma la columna genres, que originalmente podría contener cadenas que representan listas de diccionarios, en una lista real de nombres de géneros.\n",
    "\n",
    "movies['genres'] = movies['genres'].fillna('[]').apply(literal_eval).apply(lambda x: [i['name'] for i in x] if isinstance(x, list) else [])"
   ]
  },
  {
   "cell_type": "code",
   "execution_count": 6,
   "id": "ef674a38",
   "metadata": {},
   "outputs": [
    {
     "name": "stdout",
     "output_type": "stream",
     "text": [
      "<class 'pandas.core.frame.DataFrame'>\n",
      "RangeIndex: 45466 entries, 0 to 45465\n",
      "Data columns (total 7 columns):\n",
      " #   Column        Non-Null Count  Dtype  \n",
      "---  ------        --------------  -----  \n",
      " 0   id            45466 non-null  object \n",
      " 1   title         45460 non-null  object \n",
      " 2   overview      44512 non-null  object \n",
      " 3   genres        45466 non-null  object \n",
      " 4   vote_count    45460 non-null  float64\n",
      " 5   vote_average  45460 non-null  float64\n",
      " 6   release_date  45379 non-null  object \n",
      "dtypes: float64(2), object(5)\n",
      "memory usage: 2.4+ MB\n"
     ]
    }
   ],
   "source": [
    "#Selecciono las columnas que me interesan y  muestroel tipo de dato de cada columna. Es útil para tener una visión general de la estructura del datsaet.\n",
    "\n",
    "movies = movies[['id','title','overview','genres','vote_count','vote_average', 'release_date']]\n",
    "\n",
    "movies.info()"
   ]
  },
  {
   "cell_type": "code",
   "execution_count": 7,
   "id": "146a1b94",
   "metadata": {},
   "outputs": [
    {
     "data": {
      "text/plain": [
       "id                0\n",
       "title             6\n",
       "overview        954\n",
       "genres            0\n",
       "vote_count        6\n",
       "vote_average      6\n",
       "release_date     87\n",
       "dtype: int64"
      ]
     },
     "execution_count": 7,
     "metadata": {},
     "output_type": "execute_result"
    }
   ],
   "source": [
    "#Miro a ver cuantos valores nulos hay\n",
    "movies.isnull().sum()"
   ]
  },
  {
   "cell_type": "code",
   "execution_count": 8,
   "id": "243ccc34",
   "metadata": {
    "scrolled": true
   },
   "outputs": [
    {
     "data": {
      "text/html": [
       "<div>\n",
       "<style scoped>\n",
       "    .dataframe tbody tr th:only-of-type {\n",
       "        vertical-align: middle;\n",
       "    }\n",
       "\n",
       "    .dataframe tbody tr th {\n",
       "        vertical-align: top;\n",
       "    }\n",
       "\n",
       "    .dataframe thead th {\n",
       "        text-align: right;\n",
       "    }\n",
       "</style>\n",
       "<table border=\"1\" class=\"dataframe\">\n",
       "  <thead>\n",
       "    <tr style=\"text-align: right;\">\n",
       "      <th></th>\n",
       "      <th>id</th>\n",
       "      <th>title</th>\n",
       "      <th>overview</th>\n",
       "      <th>genres</th>\n",
       "      <th>vote_count</th>\n",
       "      <th>vote_average</th>\n",
       "      <th>release_date</th>\n",
       "    </tr>\n",
       "  </thead>\n",
       "  <tbody>\n",
       "    <tr>\n",
       "      <th>0</th>\n",
       "      <td>862</td>\n",
       "      <td>Toy Story</td>\n",
       "      <td>Led by Woody, Andy's toys live happily in his ...</td>\n",
       "      <td>[Animation, Comedy, Family]</td>\n",
       "      <td>5415.0</td>\n",
       "      <td>7.7</td>\n",
       "      <td>1995-10-30</td>\n",
       "    </tr>\n",
       "    <tr>\n",
       "      <th>1</th>\n",
       "      <td>8844</td>\n",
       "      <td>Jumanji</td>\n",
       "      <td>When siblings Judy and Peter discover an encha...</td>\n",
       "      <td>[Adventure, Fantasy, Family]</td>\n",
       "      <td>2413.0</td>\n",
       "      <td>6.9</td>\n",
       "      <td>1995-12-15</td>\n",
       "    </tr>\n",
       "    <tr>\n",
       "      <th>2</th>\n",
       "      <td>15602</td>\n",
       "      <td>Grumpier Old Men</td>\n",
       "      <td>A family wedding reignites the ancient feud be...</td>\n",
       "      <td>[Romance, Comedy]</td>\n",
       "      <td>92.0</td>\n",
       "      <td>6.5</td>\n",
       "      <td>1995-12-22</td>\n",
       "    </tr>\n",
       "    <tr>\n",
       "      <th>3</th>\n",
       "      <td>31357</td>\n",
       "      <td>Waiting to Exhale</td>\n",
       "      <td>Cheated on, mistreated and stepped on, the wom...</td>\n",
       "      <td>[Comedy, Drama, Romance]</td>\n",
       "      <td>34.0</td>\n",
       "      <td>6.1</td>\n",
       "      <td>1995-12-22</td>\n",
       "    </tr>\n",
       "    <tr>\n",
       "      <th>4</th>\n",
       "      <td>11862</td>\n",
       "      <td>Father of the Bride Part II</td>\n",
       "      <td>Just when George Banks has recovered from his ...</td>\n",
       "      <td>[Comedy]</td>\n",
       "      <td>173.0</td>\n",
       "      <td>5.7</td>\n",
       "      <td>1995-02-10</td>\n",
       "    </tr>\n",
       "  </tbody>\n",
       "</table>\n",
       "</div>"
      ],
      "text/plain": [
       "      id                        title  \\\n",
       "0    862                    Toy Story   \n",
       "1   8844                      Jumanji   \n",
       "2  15602             Grumpier Old Men   \n",
       "3  31357            Waiting to Exhale   \n",
       "4  11862  Father of the Bride Part II   \n",
       "\n",
       "                                            overview  \\\n",
       "0  Led by Woody, Andy's toys live happily in his ...   \n",
       "1  When siblings Judy and Peter discover an encha...   \n",
       "2  A family wedding reignites the ancient feud be...   \n",
       "3  Cheated on, mistreated and stepped on, the wom...   \n",
       "4  Just when George Banks has recovered from his ...   \n",
       "\n",
       "                         genres  vote_count  vote_average release_date  \n",
       "0   [Animation, Comedy, Family]      5415.0           7.7   1995-10-30  \n",
       "1  [Adventure, Fantasy, Family]      2413.0           6.9   1995-12-15  \n",
       "2             [Romance, Comedy]        92.0           6.5   1995-12-22  \n",
       "3      [Comedy, Drama, Romance]        34.0           6.1   1995-12-22  \n",
       "4                      [Comedy]       173.0           5.7   1995-02-10  "
      ]
     },
     "execution_count": 8,
     "metadata": {},
     "output_type": "execute_result"
    }
   ],
   "source": [
    "#Elimino todas las filas que contienen al menos un valor nulo.\n",
    "\n",
    "movies.dropna(inplace=True)\n",
    "\n",
    "movies.head()"
   ]
  },
  {
   "cell_type": "markdown",
   "id": "add82cae",
   "metadata": {},
   "source": [
    "<h1>Sistema de recomendación</h1>"
   ]
  },
  {
   "cell_type": "code",
   "execution_count": 9,
   "id": "da5c8ed4",
   "metadata": {},
   "outputs": [],
   "source": [
    "#Ahora necesitamos una métrica para puntuar o calificar las películas.Como no es lo mismo una película con 3\n",
    "#votos y una puntuacióin de 9 que una pelicula con 3000 votos y una puntuación de 7, usare la formula de IMDB. Que es la siguiente\n",
    "#Weighted Rating(WR) = (v ÷ (v+m)) × R + (m ÷ (v+m)) × C . Donde\n",
    "#v es el número de votos para la película;\n",
    "#m es el número mínimo de votos requeridos para aparecer en la lista;\n",
    "#R es la calificación promedio de la película\n",
    "#C es el voto promedio en todo el informe.\n",
    "\n",
    "#Ya tengo v  y R. Ahora toca calcular C(voto promedio) "
   ]
  },
  {
   "cell_type": "code",
   "execution_count": 10,
   "id": "82befb37",
   "metadata": {},
   "outputs": [
    {
     "data": {
      "text/plain": [
       "5.6438190615502934"
      ]
     },
     "execution_count": 10,
     "metadata": {},
     "output_type": "execute_result"
    }
   ],
   "source": [
    "C = movies['vote_average'].mean()\n",
    "C"
   ]
  },
  {
   "cell_type": "code",
   "execution_count": 11,
   "id": "df82886c",
   "metadata": {},
   "outputs": [
    {
     "data": {
      "text/plain": [
       "447.0"
      ]
     },
     "execution_count": 11,
     "metadata": {},
     "output_type": "execute_result"
    }
   ],
   "source": [
    "# Ahora hay que encontrar un valor para \"m\", es decir, el número mínimo de votos necesarios para aparecer en la lista. \n",
    "#Utilizaré el percentil 90 como  punto de corte. Es decir, para que una película aparezca en las listas, debe tener más votos que al menos el 90% de las películas en la lista.\n",
    "m= movies['vote_count'].quantile(0.95)\n",
    "m"
   ]
  },
  {
   "cell_type": "code",
   "execution_count": 12,
   "id": "9bfe1476",
   "metadata": {},
   "outputs": [
    {
     "data": {
      "text/plain": [
       "(2225, 7)"
      ]
     },
     "execution_count": 12,
     "metadata": {},
     "output_type": "execute_result"
    }
   ],
   "source": [
    "#Ahora creo un nuevo DataFrame movielist que contiene solo las películas que tienen un número de votos mayor o igual a m\n",
    "\n",
    "movielist = movies.copy().loc[movies['vote_count'] >= m]\n",
    "movielist.shape"
   ]
  },
  {
   "cell_type": "code",
   "execution_count": 13,
   "id": "6f283618",
   "metadata": {},
   "outputs": [
    {
     "data": {
      "text/html": [
       "<div>\n",
       "<style scoped>\n",
       "    .dataframe tbody tr th:only-of-type {\n",
       "        vertical-align: middle;\n",
       "    }\n",
       "\n",
       "    .dataframe tbody tr th {\n",
       "        vertical-align: top;\n",
       "    }\n",
       "\n",
       "    .dataframe thead th {\n",
       "        text-align: right;\n",
       "    }\n",
       "</style>\n",
       "<table border=\"1\" class=\"dataframe\">\n",
       "  <thead>\n",
       "    <tr style=\"text-align: right;\">\n",
       "      <th></th>\n",
       "      <th>id</th>\n",
       "      <th>title</th>\n",
       "      <th>overview</th>\n",
       "      <th>genres</th>\n",
       "      <th>vote_count</th>\n",
       "      <th>vote_average</th>\n",
       "      <th>release_date</th>\n",
       "    </tr>\n",
       "  </thead>\n",
       "  <tbody>\n",
       "    <tr>\n",
       "      <th>0</th>\n",
       "      <td>862</td>\n",
       "      <td>Toy Story</td>\n",
       "      <td>Led by Woody, Andy's toys live happily in his ...</td>\n",
       "      <td>[Animation, Comedy, Family]</td>\n",
       "      <td>5415.0</td>\n",
       "      <td>7.7</td>\n",
       "      <td>1995-10-30</td>\n",
       "    </tr>\n",
       "    <tr>\n",
       "      <th>1</th>\n",
       "      <td>8844</td>\n",
       "      <td>Jumanji</td>\n",
       "      <td>When siblings Judy and Peter discover an encha...</td>\n",
       "      <td>[Adventure, Fantasy, Family]</td>\n",
       "      <td>2413.0</td>\n",
       "      <td>6.9</td>\n",
       "      <td>1995-12-15</td>\n",
       "    </tr>\n",
       "    <tr>\n",
       "      <th>5</th>\n",
       "      <td>949</td>\n",
       "      <td>Heat</td>\n",
       "      <td>Obsessive master thief, Neil McCauley leads a ...</td>\n",
       "      <td>[Action, Crime, Drama, Thriller]</td>\n",
       "      <td>1886.0</td>\n",
       "      <td>7.7</td>\n",
       "      <td>1995-12-15</td>\n",
       "    </tr>\n",
       "  </tbody>\n",
       "</table>\n",
       "</div>"
      ],
      "text/plain": [
       "     id      title                                           overview  \\\n",
       "0   862  Toy Story  Led by Woody, Andy's toys live happily in his ...   \n",
       "1  8844    Jumanji  When siblings Judy and Peter discover an encha...   \n",
       "5   949       Heat  Obsessive master thief, Neil McCauley leads a ...   \n",
       "\n",
       "                             genres  vote_count  vote_average release_date  \n",
       "0       [Animation, Comedy, Family]      5415.0           7.7   1995-10-30  \n",
       "1      [Adventure, Fantasy, Family]      2413.0           6.9   1995-12-15  \n",
       "5  [Action, Crime, Drama, Thriller]      1886.0           7.7   1995-12-15  "
      ]
     },
     "execution_count": 13,
     "metadata": {},
     "output_type": "execute_result"
    }
   ],
   "source": [
    "movielist.head(3)"
   ]
  },
  {
   "cell_type": "code",
   "execution_count": 15,
   "id": "8a5c7e15",
   "metadata": {},
   "outputs": [],
   "source": [
    "#Hay 2225 películas que califican para estar en esta lista. Ahora, hay que calcular la  métrica para cada\n",
    "#película. Para hacer esto, definiré una función llamada \"weighted_rating()\" usando la formula de IMDB.\n",
    "\n",
    "def weighted_rating(x, m=m, C=C):\n",
    "    v = x['vote_count']\n",
    "    R = x['vote_average']\n",
    "    # Calculation based on the IMDB formula\n",
    "    return (v/(v+m) * R) + (m/(m+v) * C)"
   ]
  },
  {
   "cell_type": "code",
   "execution_count": 16,
   "id": "1065b48e",
   "metadata": {},
   "outputs": [],
   "source": [
    "# Aplico la función weighted_rating a cada fila del DataFrame movielist y almaceno el resultado en una nueva columna llamada 'score'.\n",
    "\n",
    "movielist['score'] = movielist.apply(weighted_rating, axis=1)"
   ]
  },
  {
   "cell_type": "code",
   "execution_count": 17,
   "id": "f286aceb",
   "metadata": {},
   "outputs": [
    {
     "data": {
      "text/html": [
       "<div>\n",
       "<style scoped>\n",
       "    .dataframe tbody tr th:only-of-type {\n",
       "        vertical-align: middle;\n",
       "    }\n",
       "\n",
       "    .dataframe tbody tr th {\n",
       "        vertical-align: top;\n",
       "    }\n",
       "\n",
       "    .dataframe thead th {\n",
       "        text-align: right;\n",
       "    }\n",
       "</style>\n",
       "<table border=\"1\" class=\"dataframe\">\n",
       "  <thead>\n",
       "    <tr style=\"text-align: right;\">\n",
       "      <th></th>\n",
       "      <th>title</th>\n",
       "      <th>vote_count</th>\n",
       "      <th>vote_average</th>\n",
       "      <th>score</th>\n",
       "    </tr>\n",
       "  </thead>\n",
       "  <tbody>\n",
       "    <tr>\n",
       "      <th>314</th>\n",
       "      <td>The Shawshank Redemption</td>\n",
       "      <td>8358.0</td>\n",
       "      <td>8.5</td>\n",
       "      <td>8.355001</td>\n",
       "    </tr>\n",
       "    <tr>\n",
       "      <th>834</th>\n",
       "      <td>The Godfather</td>\n",
       "      <td>6024.0</td>\n",
       "      <td>8.5</td>\n",
       "      <td>8.302702</td>\n",
       "    </tr>\n",
       "    <tr>\n",
       "      <th>12481</th>\n",
       "      <td>The Dark Knight</td>\n",
       "      <td>12269.0</td>\n",
       "      <td>8.3</td>\n",
       "      <td>8.206628</td>\n",
       "    </tr>\n",
       "    <tr>\n",
       "      <th>2843</th>\n",
       "      <td>Fight Club</td>\n",
       "      <td>9678.0</td>\n",
       "      <td>8.3</td>\n",
       "      <td>8.182735</td>\n",
       "    </tr>\n",
       "    <tr>\n",
       "      <th>292</th>\n",
       "      <td>Pulp Fiction</td>\n",
       "      <td>8670.0</td>\n",
       "      <td>8.3</td>\n",
       "      <td>8.169769</td>\n",
       "    </tr>\n",
       "    <tr>\n",
       "      <th>351</th>\n",
       "      <td>Forrest Gump</td>\n",
       "      <td>8147.0</td>\n",
       "      <td>8.2</td>\n",
       "      <td>8.067045</td>\n",
       "    </tr>\n",
       "    <tr>\n",
       "      <th>522</th>\n",
       "      <td>Schindler's List</td>\n",
       "      <td>4436.0</td>\n",
       "      <td>8.3</td>\n",
       "      <td>8.056848</td>\n",
       "    </tr>\n",
       "    <tr>\n",
       "      <th>23673</th>\n",
       "      <td>Whiplash</td>\n",
       "      <td>4376.0</td>\n",
       "      <td>8.3</td>\n",
       "      <td>8.053823</td>\n",
       "    </tr>\n",
       "    <tr>\n",
       "      <th>5481</th>\n",
       "      <td>Spirited Away</td>\n",
       "      <td>3968.0</td>\n",
       "      <td>8.3</td>\n",
       "      <td>8.031073</td>\n",
       "    </tr>\n",
       "    <tr>\n",
       "      <th>15480</th>\n",
       "      <td>Inception</td>\n",
       "      <td>14075.0</td>\n",
       "      <td>8.1</td>\n",
       "      <td>8.024397</td>\n",
       "    </tr>\n",
       "  </tbody>\n",
       "</table>\n",
       "</div>"
      ],
      "text/plain": [
       "                          title  vote_count  vote_average     score\n",
       "314    The Shawshank Redemption      8358.0           8.5  8.355001\n",
       "834               The Godfather      6024.0           8.5  8.302702\n",
       "12481           The Dark Knight     12269.0           8.3  8.206628\n",
       "2843                 Fight Club      9678.0           8.3  8.182735\n",
       "292                Pulp Fiction      8670.0           8.3  8.169769\n",
       "351                Forrest Gump      8147.0           8.2  8.067045\n",
       "522            Schindler's List      4436.0           8.3  8.056848\n",
       "23673                  Whiplash      4376.0           8.3  8.053823\n",
       "5481              Spirited Away      3968.0           8.3  8.031073\n",
       "15480                 Inception     14075.0           8.1  8.024397"
      ]
     },
     "execution_count": 17,
     "metadata": {},
     "output_type": "execute_result"
    }
   ],
   "source": [
    "#Filtro las peliculas segun el valor score de mayor a menor.\n",
    "\n",
    "movielist = movielist.sort_values('score', ascending=False)\n",
    "\n",
    "#Print the top 15 movies\n",
    "movielist[['title', 'vote_count', 'vote_average', 'score']].head(10)"
   ]
  },
  {
   "cell_type": "code",
   "execution_count": 18,
   "id": "804ee48a",
   "metadata": {},
   "outputs": [
    {
     "data": {
      "image/png": "[encoded data removed]",
      "text/plain": [
       "<Figure size 1000x600 with 1 Axes>"
      ]
     },
     "metadata": {},
     "output_type": "display_data"
    }
   ],
   "source": [
    "# Lo muestro de manera grafica según el Score\n",
    "\n",
    "top_n = 10\n",
    "\n",
    "plt.figure(figsize=(10, 6))\n",
    "sns.barplot(x='score', y='title', data=movielist.head(top_n), palette='viridis')\n",
    "plt.title(f'Top {top_n} películas')\n",
    "plt.xlabel('Puntuación')\n",
    "plt.ylabel('Título de la película')\n",
    "plt.show()\n"
   ]
  },
  {
   "cell_type": "markdown",
   "id": "2c444b2d",
   "metadata": {},
   "source": [
    "<h1>Recomendaciones por genero</h1>"
   ]
  },
  {
   "cell_type": "code",
   "execution_count": 19,
   "id": "0ec52064",
   "metadata": {
    "scrolled": false
   },
   "outputs": [
    {
     "name": "stdout",
     "output_type": "stream",
     "text": [
      "Recomendaciones de películas en el género 'Comedy':\n",
      "                             title  vote_count  vote_average     score\n",
      "351                   Forrest Gump      8147.0           8.2  8.067045\n",
      "2211             Life Is Beautiful      3643.0           8.3  8.009703\n",
      "18465             The Intouchables      5410.0           8.2  8.004915\n",
      "1225            Back to the Future      6239.0           8.0  7.842475\n",
      "22841     The Grand Budapest Hotel      4644.0           8.0  7.793123\n",
      "22131      The Wolf of Wall Street      6768.0           7.9  7.760220\n",
      "30315                   Inside Out      6737.0           7.9  7.759617\n",
      "40882                   La La Land      4745.0           7.9  7.705756\n",
      "10309  Dilwale Dulhania Le Jayenge       661.0           9.1  7.705674\n",
      "13724                           Up      7048.0           7.8  7.671406\n"
     ]
    }
   ],
   "source": [
    "#La función get_genre_recommendations toma un género y un número de recomendaciones como entrada. Filtra las películas en el DataFrame movielist que\n",
    "#pertenecen al género especificado, las ordena por puntuación en orden desdecente y devuelve las películas recomendadas para ese género.\n",
    "#la función main llama a get_genre_recommendations especificando un género(en este caso, 'Horror') y muestra las recomendaciones. \n",
    "\n",
    "def get_genre_recommendations(genre, num_recommendations=10):\n",
    "    # Filtrar películas por el género especificado\n",
    "    genre_movies = movielist[movielist['genres'].apply(lambda x: genre in x)]\n",
    "    \n",
    "    # Ordenar películas por puntuación\n",
    "    genre_movies = genre_movies.sort_values('score', ascending=False)\n",
    "    \n",
    "    # Mostrar las primeras 'recommendations' películas recomendadas\n",
    "    recommendations = genre_movies[['title', 'vote_count', 'vote_average', 'score']].head(num_recommendations)\n",
    "    \n",
    "    return recommendations\n",
    "\n",
    "\n",
    "def main():\n",
    "    # Llama a la función con el género deseado y muestra las recomendaciones\n",
    "    genre = 'Comedy'  # Se puede cambiar al género que se desee como 'Romance', 'Thriller', 'Horror', etc.\n",
    "    recommendations = get_genre_recommendations(genre, num_recommendations=10)\n",
    "    \n",
    "    print(f\"Recomendaciones de películas en el género '{genre}':\")\n",
    "    print(recommendations)\n",
    "\n",
    "if __name__ == \"__main__\":\n",
    "    main()"
   ]
  },
  {
   "cell_type": "markdown",
   "id": "858ee213",
   "metadata": {},
   "source": [
    "<h1>Recomendacions segun el contenido </h1>"
   ]
  },
  {
   "cell_type": "code",
   "execution_count": 20,
   "id": "e20803fa",
   "metadata": {},
   "outputs": [
    {
     "data": {
      "text/html": [
       "<div>\n",
       "<style scoped>\n",
       "    .dataframe tbody tr th:only-of-type {\n",
       "        vertical-align: middle;\n",
       "    }\n",
       "\n",
       "    .dataframe tbody tr th {\n",
       "        vertical-align: top;\n",
       "    }\n",
       "\n",
       "    .dataframe thead th {\n",
       "        text-align: right;\n",
       "    }\n",
       "</style>\n",
       "<table border=\"1\" class=\"dataframe\">\n",
       "  <thead>\n",
       "    <tr style=\"text-align: right;\">\n",
       "      <th></th>\n",
       "      <th>cast</th>\n",
       "      <th>crew</th>\n",
       "      <th>id</th>\n",
       "    </tr>\n",
       "  </thead>\n",
       "  <tbody>\n",
       "    <tr>\n",
       "      <th>0</th>\n",
       "      <td>[{'cast_id': 14, 'character': 'Woody (voice)',...</td>\n",
       "      <td>[{'credit_id': '52fe4284c3a36847f8024f49', 'de...</td>\n",
       "      <td>862</td>\n",
       "    </tr>\n",
       "    <tr>\n",
       "      <th>1</th>\n",
       "      <td>[{'cast_id': 1, 'character': 'Alan Parrish', '...</td>\n",
       "      <td>[{'credit_id': '52fe44bfc3a36847f80a7cd1', 'de...</td>\n",
       "      <td>8844</td>\n",
       "    </tr>\n",
       "    <tr>\n",
       "      <th>2</th>\n",
       "      <td>[{'cast_id': 2, 'character': 'Max Goldman', 'c...</td>\n",
       "      <td>[{'credit_id': '52fe466a9251416c75077a89', 'de...</td>\n",
       "      <td>15602</td>\n",
       "    </tr>\n",
       "  </tbody>\n",
       "</table>\n",
       "</div>"
      ],
      "text/plain": [
       "                                                cast  \\\n",
       "0  [{'cast_id': 14, 'character': 'Woody (voice)',...   \n",
       "1  [{'cast_id': 1, 'character': 'Alan Parrish', '...   \n",
       "2  [{'cast_id': 2, 'character': 'Max Goldman', 'c...   \n",
       "\n",
       "                                                crew     id  \n",
       "0  [{'credit_id': '52fe4284c3a36847f8024f49', 'de...    862  \n",
       "1  [{'credit_id': '52fe44bfc3a36847f80a7cd1', 'de...   8844  \n",
       "2  [{'credit_id': '52fe466a9251416c75077a89', 'de...  15602  "
      ]
     },
     "execution_count": 20,
     "metadata": {},
     "output_type": "execute_result"
    }
   ],
   "source": [
    "import pandas as pd\n",
    "from sklearn.metrics.pairwise import linear_kernel\n",
    "from sklearn.feature_extraction.text import TfidfVectorizer\n",
    "from ast import literal_eval\n",
    "import numpy as np\n",
    "# Carga de datos\n",
    "credits = pd.read_csv('credits.csv')\n",
    "credits.head(3)"
   ]
  },
  {
   "cell_type": "code",
   "execution_count": 21,
   "id": "c9b0603c",
   "metadata": {},
   "outputs": [
    {
     "name": "stdout",
     "output_type": "stream",
     "text": [
      "object\n",
      "int64\n"
     ]
    }
   ],
   "source": [
    "print(movielist['id'].dtype)\n",
    "print(credits['id'].dtype)"
   ]
  },
  {
   "cell_type": "code",
   "execution_count": 22,
   "id": "3b17e144",
   "metadata": {},
   "outputs": [
    {
     "name": "stdout",
     "output_type": "stream",
     "text": [
      "Empty DataFrame\n",
      "Columns: [id, title, overview, genres, vote_count, vote_average, release_date, score]\n",
      "Index: []\n"
     ]
    }
   ],
   "source": [
    "# Verificar si hay valores no numéricos\n",
    "non_numeric_ids = pd.to_numeric(movielist['id'], errors='coerce').isna()\n",
    "print(movielist[non_numeric_ids])"
   ]
  },
  {
   "cell_type": "code",
   "execution_count": 23,
   "id": "57565469",
   "metadata": {},
   "outputs": [],
   "source": [
    "# Eliminar duplicados mantiendo la primera de las filas duplicadas.\n",
    "movies = movies.drop_duplicates(subset='id', keep='first')\n",
    "movies = movies.drop_duplicates(subset='title', keep='first')"
   ]
  },
  {
   "cell_type": "code",
   "execution_count": 24,
   "id": "33db0d28",
   "metadata": {},
   "outputs": [
    {
     "data": {
      "text/html": [
       "<div>\n",
       "<style scoped>\n",
       "    .dataframe tbody tr th:only-of-type {\n",
       "        vertical-align: middle;\n",
       "    }\n",
       "\n",
       "    .dataframe tbody tr th {\n",
       "        vertical-align: top;\n",
       "    }\n",
       "\n",
       "    .dataframe thead th {\n",
       "        text-align: right;\n",
       "    }\n",
       "</style>\n",
       "<table border=\"1\" class=\"dataframe\">\n",
       "  <thead>\n",
       "    <tr style=\"text-align: right;\">\n",
       "      <th></th>\n",
       "      <th>id</th>\n",
       "      <th>title</th>\n",
       "      <th>overview</th>\n",
       "      <th>genres</th>\n",
       "      <th>vote_count</th>\n",
       "      <th>vote_average</th>\n",
       "      <th>release_date</th>\n",
       "      <th>score</th>\n",
       "    </tr>\n",
       "  </thead>\n",
       "  <tbody>\n",
       "    <tr>\n",
       "      <th>314</th>\n",
       "      <td>278</td>\n",
       "      <td>The Shawshank Redemption</td>\n",
       "      <td>Framed in the 1940s for the double murder of h...</td>\n",
       "      <td>[Drama, Crime]</td>\n",
       "      <td>8358.0</td>\n",
       "      <td>8.5</td>\n",
       "      <td>1994-09-23</td>\n",
       "      <td>8.355001</td>\n",
       "    </tr>\n",
       "    <tr>\n",
       "      <th>834</th>\n",
       "      <td>238</td>\n",
       "      <td>The Godfather</td>\n",
       "      <td>Spanning the years 1945 to 1955, a chronicle o...</td>\n",
       "      <td>[Drama, Crime]</td>\n",
       "      <td>6024.0</td>\n",
       "      <td>8.5</td>\n",
       "      <td>1972-03-14</td>\n",
       "      <td>8.302702</td>\n",
       "    </tr>\n",
       "    <tr>\n",
       "      <th>12481</th>\n",
       "      <td>155</td>\n",
       "      <td>The Dark Knight</td>\n",
       "      <td>Batman raises the stakes in his war on crime. ...</td>\n",
       "      <td>[Drama, Action, Crime, Thriller]</td>\n",
       "      <td>12269.0</td>\n",
       "      <td>8.3</td>\n",
       "      <td>2008-07-16</td>\n",
       "      <td>8.206628</td>\n",
       "    </tr>\n",
       "  </tbody>\n",
       "</table>\n",
       "</div>"
      ],
      "text/plain": [
       "        id                     title  \\\n",
       "314    278  The Shawshank Redemption   \n",
       "834    238             The Godfather   \n",
       "12481  155           The Dark Knight   \n",
       "\n",
       "                                                overview  \\\n",
       "314    Framed in the 1940s for the double murder of h...   \n",
       "834    Spanning the years 1945 to 1955, a chronicle o...   \n",
       "12481  Batman raises the stakes in his war on crime. ...   \n",
       "\n",
       "                                 genres  vote_count  vote_average  \\\n",
       "314                      [Drama, Crime]      8358.0           8.5   \n",
       "834                      [Drama, Crime]      6024.0           8.5   \n",
       "12481  [Drama, Action, Crime, Thriller]     12269.0           8.3   \n",
       "\n",
       "      release_date     score  \n",
       "314     1994-09-23  8.355001  \n",
       "834     1972-03-14  8.302702  \n",
       "12481   2008-07-16  8.206628  "
      ]
     },
     "execution_count": 24,
     "metadata": {},
     "output_type": "execute_result"
    }
   ],
   "source": [
    "movielist.head(3)"
   ]
  },
  {
   "cell_type": "code",
   "execution_count": 25,
   "id": "641d40b6",
   "metadata": {},
   "outputs": [],
   "source": [
    "#Primero, convierto la columna 'release_date' a objetos de tipo datetime. Si hay errores en la conversión (como fechas no válidas), se reemplazan por NaN\n",
    "#Luego, aplica una función lambda para extraer el año de cada fecha. Si la fecha es válida, se convierte en una cadena y se divide a partir del guion para extraer el año. \n",
    "#Si la fecha es NaN, simplemente devuelve NaN.\n",
    "\n",
    "movielist['year'] = pd.to_datetime(movielist['release_date'], errors='coerce').apply(lambda x: str(x).split('-')[0] if x != np.nan else np.nan)\n",
    "\n",
    " "
   ]
  },
  {
   "cell_type": "code",
   "execution_count": 26,
   "id": "619665da",
   "metadata": {},
   "outputs": [
    {
     "data": {
      "text/html": [
       "<div>\n",
       "<style scoped>\n",
       "    .dataframe tbody tr th:only-of-type {\n",
       "        vertical-align: middle;\n",
       "    }\n",
       "\n",
       "    .dataframe tbody tr th {\n",
       "        vertical-align: top;\n",
       "    }\n",
       "\n",
       "    .dataframe thead th {\n",
       "        text-align: right;\n",
       "    }\n",
       "</style>\n",
       "<table border=\"1\" class=\"dataframe\">\n",
       "  <thead>\n",
       "    <tr style=\"text-align: right;\">\n",
       "      <th></th>\n",
       "      <th>id</th>\n",
       "      <th>title</th>\n",
       "      <th>overview</th>\n",
       "      <th>genres</th>\n",
       "      <th>vote_count</th>\n",
       "      <th>vote_average</th>\n",
       "      <th>release_date</th>\n",
       "      <th>score</th>\n",
       "      <th>year</th>\n",
       "    </tr>\n",
       "  </thead>\n",
       "  <tbody>\n",
       "    <tr>\n",
       "      <th>314</th>\n",
       "      <td>278</td>\n",
       "      <td>The Shawshank Redemption</td>\n",
       "      <td>Framed in the 1940s for the double murder of h...</td>\n",
       "      <td>[Drama, Crime]</td>\n",
       "      <td>8358.0</td>\n",
       "      <td>8.5</td>\n",
       "      <td>1994-09-23</td>\n",
       "      <td>8.355001</td>\n",
       "      <td>1994</td>\n",
       "    </tr>\n",
       "    <tr>\n",
       "      <th>834</th>\n",
       "      <td>238</td>\n",
       "      <td>The Godfather</td>\n",
       "      <td>Spanning the years 1945 to 1955, a chronicle o...</td>\n",
       "      <td>[Drama, Crime]</td>\n",
       "      <td>6024.0</td>\n",
       "      <td>8.5</td>\n",
       "      <td>1972-03-14</td>\n",
       "      <td>8.302702</td>\n",
       "      <td>1972</td>\n",
       "    </tr>\n",
       "    <tr>\n",
       "      <th>12481</th>\n",
       "      <td>155</td>\n",
       "      <td>The Dark Knight</td>\n",
       "      <td>Batman raises the stakes in his war on crime. ...</td>\n",
       "      <td>[Drama, Action, Crime, Thriller]</td>\n",
       "      <td>12269.0</td>\n",
       "      <td>8.3</td>\n",
       "      <td>2008-07-16</td>\n",
       "      <td>8.206628</td>\n",
       "      <td>2008</td>\n",
       "    </tr>\n",
       "  </tbody>\n",
       "</table>\n",
       "</div>"
      ],
      "text/plain": [
       "        id                     title  \\\n",
       "314    278  The Shawshank Redemption   \n",
       "834    238             The Godfather   \n",
       "12481  155           The Dark Knight   \n",
       "\n",
       "                                                overview  \\\n",
       "314    Framed in the 1940s for the double murder of h...   \n",
       "834    Spanning the years 1945 to 1955, a chronicle o...   \n",
       "12481  Batman raises the stakes in his war on crime. ...   \n",
       "\n",
       "                                 genres  vote_count  vote_average  \\\n",
       "314                      [Drama, Crime]      8358.0           8.5   \n",
       "834                      [Drama, Crime]      6024.0           8.5   \n",
       "12481  [Drama, Action, Crime, Thriller]     12269.0           8.3   \n",
       "\n",
       "      release_date     score  year  \n",
       "314     1994-09-23  8.355001  1994  \n",
       "834     1972-03-14  8.302702  1972  \n",
       "12481   2008-07-16  8.206628  2008  "
      ]
     },
     "execution_count": 26,
     "metadata": {},
     "output_type": "execute_result"
    }
   ],
   "source": [
    "movielist.head(3)"
   ]
  },
  {
   "cell_type": "code",
   "execution_count": 27,
   "id": "e763e9ba",
   "metadata": {},
   "outputs": [
    {
     "name": "stdout",
     "output_type": "stream",
     "text": [
      "int64\n",
      "int64\n"
     ]
    }
   ],
   "source": [
    "# Convertir la columna 'id' en movies a int64 para futuras operaciones y garantizar la coherencia con credits.\n",
    "movielist['id'] = movielist['id'].astype('int64')\n",
    "\n",
    "# Verificar los tipos de datos de 'id' en ambos DataFrames\n",
    "print(movielist['id'].dtype)\n",
    "print(credits['id'].dtype)"
   ]
  },
  {
   "cell_type": "code",
   "execution_count": 28,
   "id": "a1cea8bb",
   "metadata": {},
   "outputs": [],
   "source": [
    "#combino la información de credits y movielist en el dataset merge_df,  basándose en el identificador de película.\n",
    "\n",
    "merged_df = movielist.merge(credits, on='id')\n"
   ]
  },
  {
   "cell_type": "code",
   "execution_count": 29,
   "id": "afc982ea",
   "metadata": {
    "scrolled": true
   },
   "outputs": [
    {
     "data": {
      "text/html": [
       "<div>\n",
       "<style scoped>\n",
       "    .dataframe tbody tr th:only-of-type {\n",
       "        vertical-align: middle;\n",
       "    }\n",
       "\n",
       "    .dataframe tbody tr th {\n",
       "        vertical-align: top;\n",
       "    }\n",
       "\n",
       "    .dataframe thead th {\n",
       "        text-align: right;\n",
       "    }\n",
       "</style>\n",
       "<table border=\"1\" class=\"dataframe\">\n",
       "  <thead>\n",
       "    <tr style=\"text-align: right;\">\n",
       "      <th></th>\n",
       "      <th>id</th>\n",
       "      <th>title</th>\n",
       "      <th>overview</th>\n",
       "      <th>genres</th>\n",
       "      <th>vote_count</th>\n",
       "      <th>vote_average</th>\n",
       "      <th>release_date</th>\n",
       "      <th>score</th>\n",
       "      <th>year</th>\n",
       "      <th>cast</th>\n",
       "      <th>crew</th>\n",
       "    </tr>\n",
       "  </thead>\n",
       "  <tbody>\n",
       "    <tr>\n",
       "      <th>0</th>\n",
       "      <td>278</td>\n",
       "      <td>The Shawshank Redemption</td>\n",
       "      <td>Framed in the 1940s for the double murder of h...</td>\n",
       "      <td>[Drama, Crime]</td>\n",
       "      <td>8358.0</td>\n",
       "      <td>8.5</td>\n",
       "      <td>1994-09-23</td>\n",
       "      <td>8.355001</td>\n",
       "      <td>1994</td>\n",
       "      <td>[{'cast_id': 3, 'character': 'Andy Dufresne', ...</td>\n",
       "      <td>[{'credit_id': '52fe4231c3a36847f800b127', 'de...</td>\n",
       "    </tr>\n",
       "    <tr>\n",
       "      <th>1</th>\n",
       "      <td>238</td>\n",
       "      <td>The Godfather</td>\n",
       "      <td>Spanning the years 1945 to 1955, a chronicle o...</td>\n",
       "      <td>[Drama, Crime]</td>\n",
       "      <td>6024.0</td>\n",
       "      <td>8.5</td>\n",
       "      <td>1972-03-14</td>\n",
       "      <td>8.302702</td>\n",
       "      <td>1972</td>\n",
       "      <td>[{'cast_id': 5, 'character': 'Don Vito Corleon...</td>\n",
       "      <td>[{'credit_id': '52fe422bc3a36847f80093db', 'de...</td>\n",
       "    </tr>\n",
       "    <tr>\n",
       "      <th>2</th>\n",
       "      <td>155</td>\n",
       "      <td>The Dark Knight</td>\n",
       "      <td>Batman raises the stakes in his war on crime. ...</td>\n",
       "      <td>[Drama, Action, Crime, Thriller]</td>\n",
       "      <td>12269.0</td>\n",
       "      <td>8.3</td>\n",
       "      <td>2008-07-16</td>\n",
       "      <td>8.206628</td>\n",
       "      <td>2008</td>\n",
       "      <td>[{'cast_id': 35, 'character': 'Bruce Wayne / B...</td>\n",
       "      <td>[{'credit_id': '55a0eb4a925141296b0010f8', 'de...</td>\n",
       "    </tr>\n",
       "  </tbody>\n",
       "</table>\n",
       "</div>"
      ],
      "text/plain": [
       "    id                     title  \\\n",
       "0  278  The Shawshank Redemption   \n",
       "1  238             The Godfather   \n",
       "2  155           The Dark Knight   \n",
       "\n",
       "                                            overview  \\\n",
       "0  Framed in the 1940s for the double murder of h...   \n",
       "1  Spanning the years 1945 to 1955, a chronicle o...   \n",
       "2  Batman raises the stakes in his war on crime. ...   \n",
       "\n",
       "                             genres  vote_count  vote_average release_date  \\\n",
       "0                    [Drama, Crime]      8358.0           8.5   1994-09-23   \n",
       "1                    [Drama, Crime]      6024.0           8.5   1972-03-14   \n",
       "2  [Drama, Action, Crime, Thriller]     12269.0           8.3   2008-07-16   \n",
       "\n",
       "      score  year                                               cast  \\\n",
       "0  8.355001  1994  [{'cast_id': 3, 'character': 'Andy Dufresne', ...   \n",
       "1  8.302702  1972  [{'cast_id': 5, 'character': 'Don Vito Corleon...   \n",
       "2  8.206628  2008  [{'cast_id': 35, 'character': 'Bruce Wayne / B...   \n",
       "\n",
       "                                                crew  \n",
       "0  [{'credit_id': '52fe4231c3a36847f800b127', 'de...  \n",
       "1  [{'credit_id': '52fe422bc3a36847f80093db', 'de...  \n",
       "2  [{'credit_id': '55a0eb4a925141296b0010f8', 'de...  "
      ]
     },
     "execution_count": 29,
     "metadata": {},
     "output_type": "execute_result"
    }
   ],
   "source": [
    "merged_df.head(3)"
   ]
  },
  {
   "cell_type": "code",
   "execution_count": 30,
   "id": "78e1743f",
   "metadata": {},
   "outputs": [],
   "source": [
    "# Se aplica la función literal_eval a cada elemento de esas columnas usando .apply(). \n",
    "#Esto conviertelistas y diccionarios en objeto reales en Python.\n",
    "\n",
    "features = ['cast', 'crew']\n",
    "for feature in features:\n",
    "    merged_df[feature] = merged_df[feature].apply(literal_eval)  "
   ]
  },
  {
   "cell_type": "code",
   "execution_count": 31,
   "id": "568b767f",
   "metadata": {},
   "outputs": [],
   "source": [
    "#Defino la funcion clean_data para procesar y limpiar información y la funcion get_directos para extraer y limpiar el nombre del director.\n",
    "\n",
    "def clean_data(x):\n",
    "    if isinstance(x, list):\n",
    "        cleaned_list = []\n",
    "        for i in x:\n",
    "            if isinstance(i, dict) and 'name' in i:\n",
    "                cleaned_list.append(str.lower(i['name'].replace(\" \", \"\")))\n",
    "            else:\n",
    "                print(f\"Unexpected value: {i}\")  # Imprimir valores inesperados\n",
    "        return cleaned_list\n",
    "    elif isinstance(x, str):\n",
    "        return str.lower(x.replace(\" \", \"\"))\n",
    "    else:\n",
    "        return ''\n",
    "\n",
    "def get_director(x):\n",
    "    for i in x:\n",
    "        if i['job'] == 'Director':\n",
    "            return i['name'].replace(\" \", \"\").lower()  # Extraer el nombre del director que esta bajo la llave 'name'\n",
    "    return ''"
   ]
  },
  {
   "cell_type": "code",
   "execution_count": 32,
   "id": "dab5c199",
   "metadata": {
    "scrolled": false
   },
   "outputs": [],
   "source": [
    "# Obteniendo el nombre del director y almacenándolo en una nueva columna\n",
    "\n",
    "merged_df['director'] = merged_df['crew'].apply(get_director)\n",
    "\n",
    "features_clean = ['cast', 'director', 'overview']\n",
    "\n",
    "# AplicÓ la función clean_data a cada columna en features_clean para limpiar la información.\n",
    "\n",
    "for feature in features_clean:\n",
    "    merged_df[feature] = merged_df[feature].apply(clean_data)\n"
   ]
  },
  {
   "cell_type": "code",
   "execution_count": 33,
   "id": "c58a659c",
   "metadata": {},
   "outputs": [],
   "source": [
    "#Creo una representación combinada de características relevantes para cada película.\n",
    "def create_soup(x):\n",
    "    return ' '.join(x['cast']) + ' ' + x['director'] + ' ' + ' '.join(x['genres']) + ' ' + x['overview']\n",
    "\n",
    "# Crear el 'soup' para cada película\n",
    "merged_df['soup'] = merged_df.apply(create_soup, axis=1)"
   ]
  },
  {
   "cell_type": "code",
   "execution_count": 34,
   "id": "38684845",
   "metadata": {},
   "outputs": [],
   "source": [
    "# Utilizar TfidfVectorizer para crear la matriz de características, ignorando las stop words.\n",
    "tfidf = TfidfVectorizer(stop_words='english') \n",
    "tfidf_matrix = tfidf.fit_transform(merged_df['soup'])\n",
    "\n",
    "# Calcular la matriz de similitud de coseno entre las peliculas.\n",
    "cosine_sim = linear_kernel(tfidf_matrix, tfidf_matrix)\n"
   ]
  },
  {
   "cell_type": "code",
   "execution_count": 35,
   "id": "5eb1a542",
   "metadata": {},
   "outputs": [],
   "source": [
    "# Reseteo índices y hago una serie que mapea títulos de películas a índices en el DataFrame. Indices es una Serie que actúa\n",
    "#como un diccionario donde las claves son títulos de películas y los valores son los índices de esas películas \n",
    "\n",
    "\n",
    "merged_df = merged_df.reset_index()\n",
    "indices = pd.Series(merged_df.index, index=merged_df['title'])"
   ]
  },
  {
   "cell_type": "code",
   "execution_count": 36,
   "id": "82a25ab6",
   "metadata": {},
   "outputs": [],
   "source": [
    "#Defino get_recommnedations para recomendar películas basadas en la similitud del contenido.\n",
    "\n",
    "def get_recommendations(title, cosine_sim=cosine_sim):\n",
    "    idx = indices[title]\n",
    "    sim_scores = list(enumerate(cosine_sim[idx]))\n",
    "    sim_scores = sorted(sim_scores, key=lambda x: x[1], reverse=True)\n",
    "    sim_scores = sim_scores[1:11] \n",
    "    movie_indices = [i[0] for i in sim_scores]\n",
    "    return merged_df['title'].iloc[movie_indices]"
   ]
  },
  {
   "cell_type": "code",
   "execution_count": 37,
   "id": "3d2ceca7",
   "metadata": {},
   "outputs": [
    {
     "data": {
      "text/plain": [
       "2038                   The Ring Two\n",
       "949                           Rango\n",
       "1678    The Texas Chainsaw Massacre\n",
       "1463        The Autopsy of Jane Doe\n",
       "1735           Terminator Salvation\n",
       "2130                Jennifer's Body\n",
       "105                    Donnie Darko\n",
       "762               Kramer vs. Kramer\n",
       "558                   Lilo & Stitch\n",
       "1539                    Funny Games\n",
       "Name: title, dtype: object"
      ]
     },
     "execution_count": 37,
     "metadata": {},
     "output_type": "execute_result"
    }
   ],
   "source": [
    "get_recommendations('The Ring', cosine_sim)"
   ]
  },
  {
   "cell_type": "code",
   "execution_count": 38,
   "id": "6860c060",
   "metadata": {},
   "outputs": [],
   "source": [
    "#Las recomendaciones estan bien pero son algo evidentes, y por otro lado, Lilo&Stitch y Kramervs Kramer son recomendaciones\n",
    "#que poco o nada tienen que ver con The Ring"
   ]
  },
  {
   "cell_type": "code",
   "execution_count": 39,
   "id": "fa00a9a0",
   "metadata": {},
   "outputs": [],
   "source": [
    "#Proporciona recomendaciones mejoradas al tener en cuenta tanto la similitud del contenido como el género de las películas.\n",
    "#La función inicia de manera similar a get_recommendations obteniendo las puntuaciones de similitud para cada película.\n",
    "#Luego, modifica estas puntuaciones en función de los géneros de las películas.\n",
    "#Finalmente, filtra las películas recomendadas basadas en votos y calificaciones, y aplica el rating ponderado.\n",
    "\n",
    "\n",
    "def improved_recommendations(title, gender_weight=0.1):\n",
    "    # Obtener el índice de la película\n",
    "    idx = indices[title]\n",
    "    \n",
    "    # Obtener las puntuaciones de similitud\n",
    "    sim_scores = list(enumerate(cosine_sim[idx]))\n",
    "    \n",
    "    # Obtener los géneros de la película de entrada\n",
    "    target_genres = set(merged_df.loc[idx, 'genres'])\n",
    "    \n",
    "    # Modificar las puntuaciones de similitud en función de los géneros\n",
    "    for i in range(len(sim_scores)):\n",
    "        current_idx = sim_scores[i][0]\n",
    "        current_genres = set(merged_df.loc[current_idx, 'genres'])\n",
    "        if target_genres.intersection(current_genres):\n",
    "            sim_scores[i] = (sim_scores[i][0], sim_scores[i][1] + gender_weight)\n",
    "    \n",
    "\n",
    "    # Ordenar las películas basándose en las puntuaciones de similitud\n",
    "    sim_scores = sorted(sim_scores, key=lambda x: x[1], reverse=True)\n",
    "    \n",
    "    # Obtener las 25 películas más similares\n",
    "    sim_scores = sim_scores[1:26]\n",
    "    movie_indices = [i[0] for i in sim_scores]\n",
    "    \n",
    "    # Obtener detalles de estas películas\n",
    "    movies = merged_df.iloc[movie_indices][['title', 'vote_count', 'vote_average', 'year']]\n",
    "    \n",
    "    # Filtrar películas que tienen votos y calificaciones no nulas\n",
    "    vote_counts = movies[movies['vote_count'].notnull()]['vote_count'].astype('int')\n",
    "    vote_averages = movies[movies['vote_average'].notnull()]['vote_average'].astype('int')\n",
    "    C = vote_averages.mean()\n",
    "    m = vote_counts.quantile(0.60)\n",
    "    qualified = movies[(movies['vote_count'] >= m) & \n",
    "                   (movies['vote_count'].notnull()) & \n",
    "                   (movies['vote_average'].notnull())].copy()\n",
    "    qualified['vote_average'] = qualified['vote_average'].astype('int')\n",
    "    \n",
    "    # Calcular el rating ponderado y devolver las 10 primeras películas\n",
    "    qualified['wr'] = qualified.apply(weighted_rating, axis=1)\n",
    "    qualified = qualified.sort_values('wr', ascending=False).head(10)\n",
    "    return qualified\n"
   ]
  },
  {
   "cell_type": "code",
   "execution_count": 40,
   "id": "0e255a62",
   "metadata": {},
   "outputs": [
    {
     "data": {
      "text/html": [
       "<div>\n",
       "<style scoped>\n",
       "    .dataframe tbody tr th:only-of-type {\n",
       "        vertical-align: middle;\n",
       "    }\n",
       "\n",
       "    .dataframe tbody tr th {\n",
       "        vertical-align: top;\n",
       "    }\n",
       "\n",
       "    .dataframe thead th {\n",
       "        text-align: right;\n",
       "    }\n",
       "</style>\n",
       "<table border=\"1\" class=\"dataframe\">\n",
       "  <thead>\n",
       "    <tr style=\"text-align: right;\">\n",
       "      <th></th>\n",
       "      <th>title</th>\n",
       "      <th>vote_count</th>\n",
       "      <th>vote_average</th>\n",
       "      <th>year</th>\n",
       "      <th>wr</th>\n",
       "    </tr>\n",
       "  </thead>\n",
       "  <tbody>\n",
       "    <tr>\n",
       "      <th>250</th>\n",
       "      <td>The Bourne Identity</td>\n",
       "      <td>3640.0</td>\n",
       "      <td>7</td>\n",
       "      <td>2002</td>\n",
       "      <td>6.851673</td>\n",
       "    </tr>\n",
       "    <tr>\n",
       "      <th>105</th>\n",
       "      <td>Donnie Darko</td>\n",
       "      <td>3574.0</td>\n",
       "      <td>7</td>\n",
       "      <td>2001</td>\n",
       "      <td>6.849238</td>\n",
       "    </tr>\n",
       "    <tr>\n",
       "      <th>316</th>\n",
       "      <td>Zodiac</td>\n",
       "      <td>2080.0</td>\n",
       "      <td>7</td>\n",
       "      <td>2007</td>\n",
       "      <td>6.760106</td>\n",
       "    </tr>\n",
       "    <tr>\n",
       "      <th>294</th>\n",
       "      <td>The Others</td>\n",
       "      <td>1708.0</td>\n",
       "      <td>7</td>\n",
       "      <td>2001</td>\n",
       "      <td>6.718695</td>\n",
       "    </tr>\n",
       "    <tr>\n",
       "      <th>159</th>\n",
       "      <td>The Thing</td>\n",
       "      <td>1629.0</td>\n",
       "      <td>7</td>\n",
       "      <td>1982</td>\n",
       "      <td>6.707990</td>\n",
       "    </tr>\n",
       "    <tr>\n",
       "      <th>196</th>\n",
       "      <td>Mulholland Drive</td>\n",
       "      <td>1517.0</td>\n",
       "      <td>7</td>\n",
       "      <td>2001</td>\n",
       "      <td>6.691338</td>\n",
       "    </tr>\n",
       "    <tr>\n",
       "      <th>1396</th>\n",
       "      <td>The Blair Witch Project</td>\n",
       "      <td>1090.0</td>\n",
       "      <td>6</td>\n",
       "      <td>1999</td>\n",
       "      <td>5.896413</td>\n",
       "    </tr>\n",
       "    <tr>\n",
       "      <th>1711</th>\n",
       "      <td>A Cure for Wellness</td>\n",
       "      <td>939.0</td>\n",
       "      <td>6</td>\n",
       "      <td>2017</td>\n",
       "      <td>5.885128</td>\n",
       "    </tr>\n",
       "    <tr>\n",
       "      <th>1865</th>\n",
       "      <td>The Boy</td>\n",
       "      <td>1133.0</td>\n",
       "      <td>5</td>\n",
       "      <td>2016</td>\n",
       "      <td>5.182144</td>\n",
       "    </tr>\n",
       "    <tr>\n",
       "      <th>1772</th>\n",
       "      <td>Paranormal Activity</td>\n",
       "      <td>1351.0</td>\n",
       "      <td>5</td>\n",
       "      <td>2007</td>\n",
       "      <td>5.160060</td>\n",
       "    </tr>\n",
       "  </tbody>\n",
       "</table>\n",
       "</div>"
      ],
      "text/plain": [
       "                        title  vote_count  vote_average  year        wr\n",
       "250       The Bourne Identity      3640.0             7  2002  6.851673\n",
       "105              Donnie Darko      3574.0             7  2001  6.849238\n",
       "316                    Zodiac      2080.0             7  2007  6.760106\n",
       "294                The Others      1708.0             7  2001  6.718695\n",
       "159                 The Thing      1629.0             7  1982  6.707990\n",
       "196          Mulholland Drive      1517.0             7  2001  6.691338\n",
       "1396  The Blair Witch Project      1090.0             6  1999  5.896413\n",
       "1711      A Cure for Wellness       939.0             6  2017  5.885128\n",
       "1865                  The Boy      1133.0             5  2016  5.182144\n",
       "1772      Paranormal Activity      1351.0             5  2007  5.160060"
      ]
     },
     "execution_count": 40,
     "metadata": {},
     "output_type": "execute_result"
    }
   ],
   "source": [
    "improved_recommendations('The Ring')"
   ]
  },
  {
   "cell_type": "code",
   "execution_count": 41,
   "id": "af73f572",
   "metadata": {},
   "outputs": [],
   "source": [
    "#Aquí las recomendacions son bastante mejores, quizás chirria algo que en la lista salga \"The Bourne Identity\", pero por\n",
    "#otro lado resulta interesante que genere recomendaciones que no son de terror per de un contenido pero que perfectamente\n",
    "#podrian gustar a alguien que le guste The Ring, como es el caso de Mulholland Drive y Zodiac."
   ]
  },
  {
   "cell_type": "code",
   "execution_count": 42,
   "id": "b39bb24f",
   "metadata": {
    "scrolled": false
   },
   "outputs": [
    {
     "data": {
      "image/png": "[encoded data removed]",
      "text/plain": [
       "<Figure size 1000x600 with 1 Axes>"
      ]
     },
     "metadata": {},
     "output_type": "display_data"
    }
   ],
   "source": [
    "#Aqui podemos ver la distribución de votos de las películas recomendadas para \"The Exorcist\".\n",
    "\n",
    "def plot_recommended_movie_scores(title):\n",
    "    recommended_movies = improved_recommendations(title)\n",
    "    plt.figure(figsize=(10, 6))\n",
    "    sns.histplot(recommended_movies['vote_average'], bins=10, kde=False)\n",
    "    plt.title(f'Distribucion del Vote Average de recomendaciones de peliculas basadas en \"{title}\"')\n",
    "    plt.xlabel('Vote Average')\n",
    "    plt.ylabel('Count')\n",
    "    plt.show()\n",
    "\n",
    "plot_recommended_movie_scores('The Exorcist')\n"
   ]
  },
  {
   "cell_type": "markdown",
   "id": "986144de",
   "metadata": {},
   "source": [
    "<h1>Filtro colaborativo</h1>"
   ]
  },
  {
   "cell_type": "code",
   "execution_count": 46,
   "id": "6ba3b5af",
   "metadata": {},
   "outputs": [
    {
     "data": {
      "text/html": [
       "<div>\n",
       "<style scoped>\n",
       "    .dataframe tbody tr th:only-of-type {\n",
       "        vertical-align: middle;\n",
       "    }\n",
       "\n",
       "    .dataframe tbody tr th {\n",
       "        vertical-align: top;\n",
       "    }\n",
       "\n",
       "    .dataframe thead th {\n",
       "        text-align: right;\n",
       "    }\n",
       "</style>\n",
       "<table border=\"1\" class=\"dataframe\">\n",
       "  <thead>\n",
       "    <tr style=\"text-align: right;\">\n",
       "      <th></th>\n",
       "      <th>userId</th>\n",
       "      <th>movieId</th>\n",
       "      <th>rating</th>\n",
       "      <th>timestamp</th>\n",
       "    </tr>\n",
       "  </thead>\n",
       "  <tbody>\n",
       "    <tr>\n",
       "      <th>0</th>\n",
       "      <td>1</td>\n",
       "      <td>31</td>\n",
       "      <td>2.5</td>\n",
       "      <td>1260759144</td>\n",
       "    </tr>\n",
       "    <tr>\n",
       "      <th>1</th>\n",
       "      <td>1</td>\n",
       "      <td>1029</td>\n",
       "      <td>3.0</td>\n",
       "      <td>1260759179</td>\n",
       "    </tr>\n",
       "    <tr>\n",
       "      <th>2</th>\n",
       "      <td>1</td>\n",
       "      <td>1061</td>\n",
       "      <td>3.0</td>\n",
       "      <td>1260759182</td>\n",
       "    </tr>\n",
       "  </tbody>\n",
       "</table>\n",
       "</div>"
      ],
      "text/plain": [
       "   userId  movieId  rating   timestamp\n",
       "0       1       31     2.5  1260759144\n",
       "1       1     1029     3.0  1260759179\n",
       "2       1     1061     3.0  1260759182"
      ]
     },
     "execution_count": 46,
     "metadata": {},
     "output_type": "execute_result"
    }
   ],
   "source": [
    "#Importa módulos necesarios de la biblioteca Surprise y cargo el dataset ratings_small.csv\n",
    "\n",
    "from surprise import Reader, Dataset, SVD\n",
    "from surprise.model_selection import cross_validate, train_test_split, GridSearchCV\n",
    "\n",
    "import pandas as pd\n",
    "\n",
    "reader = Reader(rating_scale=(1, 5))\n",
    "ratings = pd.read_csv('ratings_small.csv')\n",
    "\n",
    "ratings.head(3)"
   ]
  },
  {
   "cell_type": "code",
   "execution_count": 48,
   "id": "56bae5f9",
   "metadata": {},
   "outputs": [
    {
     "name": "stdout",
     "output_type": "stream",
     "text": [
      "userId               1.0\n",
      "movieId              1.0\n",
      "rating               0.5\n",
      "timestamp    789652009.0\n",
      "dtype: float64 userId       6.710000e+02\n",
      "movieId      1.639490e+05\n",
      "rating       5.000000e+00\n",
      "timestamp    1.476641e+09\n",
      "dtype: float64\n"
     ]
    }
   ],
   "source": [
    "min_rating = ratings.min()\n",
    "max_rating = ratings.max()\n",
    "print(min_rating, max_rating)"
   ]
  },
  {
   "cell_type": "code",
   "execution_count": 45,
   "id": "bd160e36",
   "metadata": {},
   "outputs": [
    {
     "name": "stdout",
     "output_type": "stream",
     "text": [
      "Mejores parámetros:  {'n_factors': 150, 'n_epochs': 30, 'lr_all': 0.01, 'reg_all': 0.1}\n"
     ]
    }
   ],
   "source": [
    "#Busco los mejores parametros para SVD\n",
    "\n",
    "data = Dataset.load_from_df(ratings[['userId', 'movieId', 'rating']], reader)\n",
    "\n",
    "smaller_ratings = ratings.sample(frac=0.6)\n",
    "\n",
    "# Cargar el subconjunto de datos en Surprise\n",
    "data = Dataset.load_from_df(smaller_ratings[['userId', 'movieId', 'rating']], reader)\n",
    "\n",
    "# Definir el espacio de parámetros\n",
    "param_grid = {\n",
    "    'n_factors': [50, 100, 150, 200],\n",
    "    'n_epochs': [10, 20, 30],\n",
    "    'lr_all': [0.002, 0.005, 0.01],\n",
    "    'reg_all': [0.02, 0.1, 0.2]\n",
    "}\n",
    "\n",
    "# Crear un objeto GridSearchCV\n",
    "gs = GridSearchCV(SVD, param_grid, measures=['rmse', 'mae'], cv=3)\n",
    "\n",
    "# Ajustar datos\n",
    "# data = ...\n",
    "gs.fit(data)\n",
    "\n",
    "# Imprimir los mejores parámetros\n",
    "print(\"Mejores parámetros: \", gs.best_params['rmse'])"
   ]
  },
  {
   "cell_type": "code",
   "execution_count": 49,
   "id": "0524d04c",
   "metadata": {},
   "outputs": [
    {
     "name": "stdout",
     "output_type": "stream",
     "text": [
      "Evaluating RMSE, MAE of algorithm SVD on 3 split(s).\n",
      "\n",
      "                  Fold 1  Fold 2  Fold 3  Mean    Std     \n",
      "RMSE (testset)    0.9108  0.8965  0.9017  0.9030  0.0059  \n",
      "MAE (testset)     0.7015  0.6948  0.6953  0.6972  0.0031  \n",
      "Fit time          0.94    0.99    0.97    0.97    0.02    \n",
      "Test time         0.11    0.11    0.11    0.11    0.00    \n"
     ]
    }
   ],
   "source": [
    "# Uso el algoritmo SVD con parámetros ajustados\n",
    "algo = SVD(n_factors=200, n_epochs=30, lr_all=0.01, reg_all=0.1) \n",
    "\n",
    "# Evaluo el rendimiento del algoritmo usando validación cruzada sin paralelización\n",
    "results = cross_validate(algo, data, measures=['RMSE', 'MAE'], cv=3, verbose=True, n_jobs=1)\n"
   ]
  },
  {
   "cell_type": "code",
   "execution_count": 50,
   "id": "2a6481bd",
   "metadata": {},
   "outputs": [
    {
     "data": {
      "text/html": [
       "<div>\n",
       "<style scoped>\n",
       "    .dataframe tbody tr th:only-of-type {\n",
       "        vertical-align: middle;\n",
       "    }\n",
       "\n",
       "    .dataframe tbody tr th {\n",
       "        vertical-align: top;\n",
       "    }\n",
       "\n",
       "    .dataframe thead th {\n",
       "        text-align: right;\n",
       "    }\n",
       "</style>\n",
       "<table border=\"1\" class=\"dataframe\">\n",
       "  <thead>\n",
       "    <tr style=\"text-align: right;\">\n",
       "      <th></th>\n",
       "      <th>userId</th>\n",
       "      <th>movieId</th>\n",
       "      <th>rating</th>\n",
       "      <th>timestamp</th>\n",
       "    </tr>\n",
       "  </thead>\n",
       "  <tbody>\n",
       "    <tr>\n",
       "      <th>0</th>\n",
       "      <td>1</td>\n",
       "      <td>31</td>\n",
       "      <td>2.5</td>\n",
       "      <td>1260759144</td>\n",
       "    </tr>\n",
       "    <tr>\n",
       "      <th>1</th>\n",
       "      <td>1</td>\n",
       "      <td>1029</td>\n",
       "      <td>3.0</td>\n",
       "      <td>1260759179</td>\n",
       "    </tr>\n",
       "    <tr>\n",
       "      <th>2</th>\n",
       "      <td>1</td>\n",
       "      <td>1061</td>\n",
       "      <td>3.0</td>\n",
       "      <td>1260759182</td>\n",
       "    </tr>\n",
       "    <tr>\n",
       "      <th>3</th>\n",
       "      <td>1</td>\n",
       "      <td>1129</td>\n",
       "      <td>2.0</td>\n",
       "      <td>1260759185</td>\n",
       "    </tr>\n",
       "    <tr>\n",
       "      <th>4</th>\n",
       "      <td>1</td>\n",
       "      <td>1172</td>\n",
       "      <td>4.0</td>\n",
       "      <td>1260759205</td>\n",
       "    </tr>\n",
       "    <tr>\n",
       "      <th>5</th>\n",
       "      <td>1</td>\n",
       "      <td>1263</td>\n",
       "      <td>2.0</td>\n",
       "      <td>1260759151</td>\n",
       "    </tr>\n",
       "    <tr>\n",
       "      <th>6</th>\n",
       "      <td>1</td>\n",
       "      <td>1287</td>\n",
       "      <td>2.0</td>\n",
       "      <td>1260759187</td>\n",
       "    </tr>\n",
       "    <tr>\n",
       "      <th>7</th>\n",
       "      <td>1</td>\n",
       "      <td>1293</td>\n",
       "      <td>2.0</td>\n",
       "      <td>1260759148</td>\n",
       "    </tr>\n",
       "    <tr>\n",
       "      <th>8</th>\n",
       "      <td>1</td>\n",
       "      <td>1339</td>\n",
       "      <td>3.5</td>\n",
       "      <td>1260759125</td>\n",
       "    </tr>\n",
       "    <tr>\n",
       "      <th>9</th>\n",
       "      <td>1</td>\n",
       "      <td>1343</td>\n",
       "      <td>2.0</td>\n",
       "      <td>1260759131</td>\n",
       "    </tr>\n",
       "    <tr>\n",
       "      <th>10</th>\n",
       "      <td>1</td>\n",
       "      <td>1371</td>\n",
       "      <td>2.5</td>\n",
       "      <td>1260759135</td>\n",
       "    </tr>\n",
       "    <tr>\n",
       "      <th>11</th>\n",
       "      <td>1</td>\n",
       "      <td>1405</td>\n",
       "      <td>1.0</td>\n",
       "      <td>1260759203</td>\n",
       "    </tr>\n",
       "    <tr>\n",
       "      <th>12</th>\n",
       "      <td>1</td>\n",
       "      <td>1953</td>\n",
       "      <td>4.0</td>\n",
       "      <td>1260759191</td>\n",
       "    </tr>\n",
       "    <tr>\n",
       "      <th>13</th>\n",
       "      <td>1</td>\n",
       "      <td>2105</td>\n",
       "      <td>4.0</td>\n",
       "      <td>1260759139</td>\n",
       "    </tr>\n",
       "    <tr>\n",
       "      <th>14</th>\n",
       "      <td>1</td>\n",
       "      <td>2150</td>\n",
       "      <td>3.0</td>\n",
       "      <td>1260759194</td>\n",
       "    </tr>\n",
       "    <tr>\n",
       "      <th>15</th>\n",
       "      <td>1</td>\n",
       "      <td>2193</td>\n",
       "      <td>2.0</td>\n",
       "      <td>1260759198</td>\n",
       "    </tr>\n",
       "    <tr>\n",
       "      <th>16</th>\n",
       "      <td>1</td>\n",
       "      <td>2294</td>\n",
       "      <td>2.0</td>\n",
       "      <td>1260759108</td>\n",
       "    </tr>\n",
       "    <tr>\n",
       "      <th>17</th>\n",
       "      <td>1</td>\n",
       "      <td>2455</td>\n",
       "      <td>2.5</td>\n",
       "      <td>1260759113</td>\n",
       "    </tr>\n",
       "    <tr>\n",
       "      <th>18</th>\n",
       "      <td>1</td>\n",
       "      <td>2968</td>\n",
       "      <td>1.0</td>\n",
       "      <td>1260759200</td>\n",
       "    </tr>\n",
       "    <tr>\n",
       "      <th>19</th>\n",
       "      <td>1</td>\n",
       "      <td>3671</td>\n",
       "      <td>3.0</td>\n",
       "      <td>1260759117</td>\n",
       "    </tr>\n",
       "  </tbody>\n",
       "</table>\n",
       "</div>"
      ],
      "text/plain": [
       "    userId  movieId  rating   timestamp\n",
       "0        1       31     2.5  1260759144\n",
       "1        1     1029     3.0  1260759179\n",
       "2        1     1061     3.0  1260759182\n",
       "3        1     1129     2.0  1260759185\n",
       "4        1     1172     4.0  1260759205\n",
       "5        1     1263     2.0  1260759151\n",
       "6        1     1287     2.0  1260759187\n",
       "7        1     1293     2.0  1260759148\n",
       "8        1     1339     3.5  1260759125\n",
       "9        1     1343     2.0  1260759131\n",
       "10       1     1371     2.5  1260759135\n",
       "11       1     1405     1.0  1260759203\n",
       "12       1     1953     4.0  1260759191\n",
       "13       1     2105     4.0  1260759139\n",
       "14       1     2150     3.0  1260759194\n",
       "15       1     2193     2.0  1260759198\n",
       "16       1     2294     2.0  1260759108\n",
       "17       1     2455     2.5  1260759113\n",
       "18       1     2968     1.0  1260759200\n",
       "19       1     3671     3.0  1260759117"
      ]
     },
     "execution_count": 50,
     "metadata": {},
     "output_type": "execute_result"
    }
   ],
   "source": [
    "#Calificaciones para el usuario con el ID 1\n",
    "ratings[ratings['userId'] == 1]"
   ]
  },
  {
   "cell_type": "code",
   "execution_count": 56,
   "id": "8ebfadcd",
   "metadata": {},
   "outputs": [
    {
     "data": {
      "text/plain": [
       "Prediction(uid=1, iid=302, r_ui=3, est=2.8996616013822685, details={'was_impossible': False})"
      ]
     },
     "execution_count": 56,
     "metadata": {},
     "output_type": "execute_result"
    }
   ],
   "source": [
    "#Prediccion del usuario id1 para la pelicula con Id2, con puntuaqcion conocida de 3\n",
    "\n",
    "algo.predict(1, 2, 3)"
   ]
  },
  {
   "cell_type": "code",
   "execution_count": null,
   "id": "5045b24a",
   "metadata": {},
   "outputs": [],
   "source": [
    "#la prediccion de 2.899 es bastante cercana"
   ]
  },
  {
   "cell_type": "markdown",
   "id": "d75ebc67",
   "metadata": {},
   "source": [
    "<h1>Filtro Hibrido<h1>"
   ]
  },
  {
   "cell_type": "code",
   "execution_count": null,
   "id": "23f99024",
   "metadata": {},
   "outputs": [],
   "source": [
    "# Convertir un valor a numero entero de forma segura. Mas adelante se aplicara.\n",
    "\n",
    "def convert_int(x):\n",
    "    try:\n",
    "        return int(x)\n",
    "    except:\n",
    "        return np.nan"
   ]
  },
  {
   "cell_type": "code",
   "execution_count": null,
   "id": "69bf2c2b",
   "metadata": {},
   "outputs": [],
   "source": [
    "#Creo un mapeo entre los IDs de las películas en Movies y los IDs de TMDB.\n",
    "\n",
    "id_map = pd.read_csv('links.csv')[['movieId', 'tmdbId']]\n",
    "id_map['tmdbId'] = id_map['tmdbId'].apply(convert_int)\n",
    "id_map.columns = ['movieId', 'id']\n",
    "id_map = id_map.merge(movielist[['title', 'id']], on='id').set_index('title')\n"
   ]
  },
  {
   "cell_type": "code",
   "execution_count": null,
   "id": "4b87d8af",
   "metadata": {},
   "outputs": [],
   "source": [
    "#\n",
    "indices_map = id_map.set_index('id')"
   ]
  },
  {
   "cell_type": "code",
   "execution_count": null,
   "id": "222e18ed",
   "metadata": {},
   "outputs": [],
   "source": [
    "#La función genera una lista de 10 películas,adaptadas específicamente para cada usuario basándose en sus calificaciones anteriores y la similitud de contenido con \"Gattaca\".\n",
    "\n",
    "def hybrid(userId, title):\n",
    "    idx = indices[title]\n",
    "    tmdbId = id_map.loc[title]['id']\n",
    "    #print(idx)\n",
    "    movie_id = id_map.loc[title]['movieId']\n",
    "    sim_scores = list(enumerate(cosine_sim[int(idx)]))\n",
    "    sim_scores = sorted(sim_scores, key=lambda x: x[1], reverse=True)\n",
    "    sim_scores = sim_scores[1:26]\n",
    "    movie_indices = [i[0] for i in sim_scores]\n",
    "    \n",
    "    movies = movielist.iloc[movie_indices][['title', 'vote_count', 'vote_average', 'year', 'id']]\n",
    "    movies['est'] = movies['id'].apply(lambda x: algo.predict(userId, indices_map.loc[x]['movieId']).est)\n",
    "    movies = movies.sort_values('est', ascending=False)\n",
    "    return movies.head(10)"
   ]
  },
  {
   "cell_type": "code",
   "execution_count": null,
   "id": "96aa3c64",
   "metadata": {},
   "outputs": [],
   "source": [
    "hybrid(1058, 'Gattaca')"
   ]
  },
  {
   "cell_type": "code",
   "execution_count": null,
   "id": "726c50f8",
   "metadata": {},
   "outputs": [],
   "source": [
    "hybrid(100, 'Gattaca')"
   ]
  },
  {
   "cell_type": "code",
   "execution_count": null,
   "id": "5a14ba1d",
   "metadata": {},
   "outputs": [],
   "source": [
    "hybrid(112, 'Gattaca')"
   ]
  },
  {
   "cell_type": "code",
   "execution_count": null,
   "id": "0d6f8b22",
   "metadata": {},
   "outputs": [],
   "source": [
    "#Aun cambiando usuario genera resultados bastante similares"
   ]
  },
  {
   "cell_type": "code",
   "execution_count": null,
   "id": "a92a760c",
   "metadata": {},
   "outputs": [],
   "source": []
  }
 ],
 "metadata": {
  "kernelspec": {
   "display_name": "Python 3 (ipykernel)",
   "language": "python",
   "name": "python3"
  },
  "language_info": {
   "codemirror_mode": {
    "name": "ipython",
    "version": 3
   },
   "file_extension": ".py",
   "mimetype": "text/x-python",
   "name": "python",
   "nbconvert_exporter": "python",
   "pygments_lexer": "ipython3",
   "version": "3.9.13"
  }
 },
 "nbformat": 4,
 "nbformat_minor": 5
}
